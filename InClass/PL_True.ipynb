{
 "cells": [
  {
   "cell_type": "code",
   "execution_count": 2,
   "metadata": {},
   "outputs": [
    {
     "name": "stdout",
     "output_type": "stream",
     "text": [
      "|\n"
     ]
    }
   ],
   "source": [
    "import utils\n",
    "\n",
    "model = {\"P\":False, \"Q\":True, \"L\":True, \"R\":True}\n",
    "\n",
    "alpha = \"(P|Q) | F\"\n",
    "a = utils.expr(alpha)\n",
    "print(a.args[0].op)"
   ]
  },
  {
   "cell_type": "code",
   "execution_count": null,
   "metadata": {},
   "outputs": [
    {
     "name": "stdout",
     "output_type": "stream",
     "text": [
      "None\n"
     ]
    }
   ],
   "source": [
    "def PL_True(expr, model):\n",
    "    # Check if the expression is a single variable or a constant\n",
    "    if expr.op is None:\n",
    "        # Return the boolean value from the model dictionary\n",
    "        return model[expr.name]\n",
    "\n",
    "    # Handle the logical OR operator\n",
    "    elif expr.op == '|':\n",
    "        # Recursively evaluate each argument and return True if any are True\n",
    "        return PL_True(expr.args[0], model) or PL_True(expr.args[1], model)\n",
    "\n",
    "    # Handle the logical AND operator\n",
    "    elif expr.op == '&':\n",
    "        # Recursively evaluate each argument and return True if both are True\n",
    "        return PL_True(expr.args[0], model) and PL_True(expr.args[1], model)\n",
    "\n",
    "    # Handle the logical NOT operator\n",
    "    elif expr.op == '~':\n",
    "        # Recursively evaluate the argument and return the negation\n",
    "        return not PL_True(expr.args[0], model)\n",
    "# if an unsupported op is passed \n",
    "\n",
    "\n",
    "# Example usage\n",
    "model = {'P': False, 'Q': True, 'L': True, 'R': True, 'F': False}\n",
    "alpha = \"(P|Q) | F\"\n",
    "\n",
    "# Parse the expression using a helper function from the utils module\n",
    "parsed_expr = utils.expr(alpha)\n",
    "result = PL_True(parsed_expr, model)\n",
    "print(result)  # Should output the result of the logical expression evaluation\n"
   ]
  },
  {
   "cell_type": "code",
   "execution_count": null,
   "metadata": {},
   "outputs": [
    {
     "name": "stdout",
     "output_type": "stream",
     "text": [
      "True\n"
     ]
    }
   ],
   "source": [
    "def eval_expr(expression, model):\n",
    "    if expression in model:\n",
    "        # Base case if the expression is a single variable or a constant: Return the boolean value directly from the model\n",
    "        return model[expression]\n",
    "\n",
    "    # Handle the NOT operation \n",
    "    if expression.startswith('~'):\n",
    "        # Recursively evaluate the NOT operand (descending into a subtree)and return the logical negation of the result\n",
    "        return not eval_expr(expression[1:], model)\n",
    "\n",
    "    # Initialize variables to find the main operator at the outermost level\n",
    "    depth = 0  # Depth tracks the level of nested parentheses\n",
    "    main_op = None  # To store the main operator outside any parentheses\n",
    "\n",
    "    # Loop through each character in the expression to find the main operator\n",
    "    for i, char in enumerate(expression):\n",
    "        if char == '(':\n",
    "            depth += 1\n",
    "        elif char == ')':\n",
    "            depth -= 1\n",
    "        # Check for operators only at the outermost level (depth == 0)\n",
    "        elif depth == 0 and (char == '|' or char == '&'):\n",
    "            main_op = char\n",
    "            op_index = i\n",
    "            break\n",
    "\n",
    "    # If a main operator is found, process it as a binary node\n",
    "    if main_op:\n",
    "        # Extract left and right sub-expressions surrounding the main operator\n",
    "        left = expression[:op_index].strip()\n",
    "        right = expression[op_index+1:].strip()\n",
    "        \n",
    "        # Recursively evaluate each sub-expression (descending into left and right subtrees)\n",
    "        # For OR operator, return True if either recursive call returns True\n",
    "        if main_op == '|':\n",
    "            return eval_expr(left, model) or eval_expr(right, model)\n",
    "        # For AND operator, return True only if both recursive calls return True\n",
    "        elif main_op == '&':\n",
    "            return eval_expr(left, model) and eval_expr(right, model)\n",
    "\n",
    "    # Handle expressions surrounded by parentheses (like handling a nested subtree)\n",
    "    if expression.startswith('(') and expression.endswith(')'):\n",
    "        # Strip the outermost parentheses and recursively evaluate the inner expression\n",
    "        return eval_expr(expression[1:-1].strip(), model)\n",
    "\n",
    "    # If none of the above conditions are met, raise an error for unsupported format\n",
    "    raise ValueError(f\"Unsupported expression format: {expression}\")\n",
    "\n",
    "# Example \n",
    "model = {'P': False, 'Q': True, 'L': True, 'R': True, 'F': False}\n",
    "expression = \"((P|Q) | F)\"\n",
    "result = eval_expr(expression, model)\n",
    "print(result)  # Outputs the result of the logical expression evaluation\n"
   ]
  },
  {
   "cell_type": "code",
   "execution_count": null,
   "metadata": {},
   "outputs": [],
   "source": []
  }
 ],
 "metadata": {
  "kernelspec": {
   "display_name": "Python 3",
   "language": "python",
   "name": "python3"
  },
  "language_info": {
   "codemirror_mode": {
    "name": "ipython",
    "version": 3
   },
   "file_extension": ".py",
   "mimetype": "text/x-python",
   "name": "python",
   "nbconvert_exporter": "python",
   "pygments_lexer": "ipython3",
   "version": "3.9.6"
  }
 },
 "nbformat": 4,
 "nbformat_minor": 2
}
