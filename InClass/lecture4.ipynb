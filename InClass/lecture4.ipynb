{
 "cells": [
  {
   "cell_type": "markdown",
   "metadata": {},
   "source": [
    "What is the energetic cost of the human brain vs LLM? \n",
    "- human brain is more energy efficient, it consumes smaller amounts of energy to perform complex tasks \n",
    "- LLMs require more power to run which can have high energy costs \n",
    "- the size and complexity of an LLM directly impacts its energy consumption, larger models require more processing power \n",
    "- human brain consumes 20 W of power and runs on about 12 W whether awake or sleeping \n",
    "    How does training time play a role?\n",
    "- humans spend their whole lives training their brains, so you would have to sum up the total training time and compare it to that of LLMs \n",
    "- training vs inference \n",
    "- comparing the \"knowledge\" vs training time, LLMs would be more efficient \n",
    "Possible final project question: \n",
    "- in what cases would a LLM be more efficient than the human brain, give a specific case with numerical supports \n",
    "\n",
    "Sources: \n",
    "https://adasci.org/how-much-energy-do-llms-consume-unveiling-the-power-behind-ai/ \n",
    "https://pmc.ncbi.nlm.nih.gov/articles/PMC10630093/ "
   ]
  }
 ],
 "metadata": {
  "language_info": {
   "name": "python"
  }
 },
 "nbformat": 4,
 "nbformat_minor": 2
}
